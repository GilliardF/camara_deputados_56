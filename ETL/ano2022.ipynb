{
 "cells": [
  {
   "cell_type": "code",
   "execution_count": null,
   "metadata": {},
   "outputs": [],
   "source": [
    "import pandas as pd\n",
    "import os"
   ]
  },
  {
   "cell_type": "code",
   "execution_count": 14,
   "metadata": {},
   "outputs": [
    {
     "name": "stderr",
     "output_type": "stream",
     "text": [
      "/tmp/ipykernel_197650/1629528210.py:1: DtypeWarning: Columns (27) have mixed types. Specify dtype option on import or set low_memory=False.\n",
      "  ano_2022 = pd.read_csv(\"/home/gilliard/Documentos/camara_deputados_BI/datasets/Ano-2022.csv\", sep=\";\", encoding=\"latin1\")\n"
     ]
    },
    {
     "data": {
      "application/vnd.microsoft.datawrangler.viewer.v0+json": {
       "columns": [
        {
         "name": "index",
         "rawType": "int64",
         "type": "integer"
        },
        {
         "name": "ï»¿\"txNomeParlamentar\"",
         "rawType": "object",
         "type": "string"
        },
        {
         "name": "cpf",
         "rawType": "float64",
         "type": "float"
        },
        {
         "name": "ideCadastro",
         "rawType": "float64",
         "type": "float"
        },
        {
         "name": "nuCarteiraParlamentar",
         "rawType": "float64",
         "type": "float"
        },
        {
         "name": "nuLegislatura",
         "rawType": "int64",
         "type": "integer"
        },
        {
         "name": "sgUF",
         "rawType": "object",
         "type": "unknown"
        },
        {
         "name": "sgPartido",
         "rawType": "object",
         "type": "unknown"
        },
        {
         "name": "codLegislatura",
         "rawType": "int64",
         "type": "integer"
        },
        {
         "name": "numSubCota",
         "rawType": "int64",
         "type": "integer"
        },
        {
         "name": "txtDescricao",
         "rawType": "object",
         "type": "string"
        },
        {
         "name": "numEspecificacaoSubCota",
         "rawType": "int64",
         "type": "integer"
        },
        {
         "name": "txtDescricaoEspecificacao",
         "rawType": "object",
         "type": "unknown"
        },
        {
         "name": "txtFornecedor",
         "rawType": "object",
         "type": "string"
        },
        {
         "name": "txtCNPJCPF",
         "rawType": "object",
         "type": "string"
        },
        {
         "name": "txtNumero",
         "rawType": "object",
         "type": "string"
        },
        {
         "name": "indTipoDocumento",
         "rawType": "int64",
         "type": "integer"
        },
        {
         "name": "datEmissao",
         "rawType": "object",
         "type": "string"
        },
        {
         "name": "vlrDocumento",
         "rawType": "float64",
         "type": "float"
        },
        {
         "name": "vlrGlosa",
         "rawType": "float64",
         "type": "float"
        },
        {
         "name": "vlrLiquido",
         "rawType": "float64",
         "type": "float"
        },
        {
         "name": "numMes",
         "rawType": "int64",
         "type": "integer"
        },
        {
         "name": "numAno",
         "rawType": "int64",
         "type": "integer"
        },
        {
         "name": "numParcela",
         "rawType": "int64",
         "type": "integer"
        },
        {
         "name": "txtPassageiro",
         "rawType": "object",
         "type": "unknown"
        },
        {
         "name": "txtTrecho",
         "rawType": "object",
         "type": "unknown"
        },
        {
         "name": "numLote",
         "rawType": "int64",
         "type": "integer"
        },
        {
         "name": "numRessarcimento",
         "rawType": "float64",
         "type": "float"
        },
        {
         "name": "datPagamentoRestituicao",
         "rawType": "object",
         "type": "unknown"
        },
        {
         "name": "vlrRestituicao",
         "rawType": "float64",
         "type": "float"
        },
        {
         "name": "nuDeputadoId",
         "rawType": "int64",
         "type": "integer"
        },
        {
         "name": "ideDocumento",
         "rawType": "int64",
         "type": "integer"
        },
        {
         "name": "urlDocumento",
         "rawType": "object",
         "type": "string"
        }
       ],
       "conversionMethod": "pd.DataFrame",
       "ref": "21354e65-1980-4fc0-8a53-93afe472fefc",
       "rows": [
        [
         "0",
         "LIDERANÃA DO CIDADANIA",
         null,
         null,
         null,
         "2019",
         null,
         null,
         "56",
         "4",
         "CONSULTORIAS, PESQUISAS E TRABALHOS TÃCNICOS.",
         "0",
         null,
         "KAWAMURA, CALHADO E VILELA SOCIEDADE DE ADVOGADOS",
         "166.923.980/0010-4",
         "1",
         "0",
         "2023-02-15T00:00:00",
         "28500.0",
         "0.0",
         "28500.0",
         "12",
         "2022",
         "0",
         null,
         null,
         "1899877",
         null,
         null,
         null,
         "3453",
         "7481981",
         "https://www.camara.leg.br/cota-parlamentar/documentos/publ/3453/2022/7481981.pdf"
        ],
        [
         "1",
         "LIDERANÃA DO CIDADANIA",
         null,
         null,
         null,
         "2019",
         null,
         null,
         "56",
         "5",
         "DIVULGAÃÃO DA ATIVIDADE PARLAMENTAR.",
         "0",
         null,
         "Zoom Video Communications Inc.",
         "000.000.000/0001-0",
         "133129852",
         "1",
         "2022-02-14T00:00:00",
         "1561.96",
         "0.0",
         "1561.96",
         "2",
         "2022",
         "0",
         null,
         null,
         "1833951",
         null,
         null,
         null,
         "3453",
         "7342370",
         "https://www.camara.leg.br/cota-parlamentar/documentos/publ/3453/2022/7342370.pdf"
        ],
        [
         "2",
         "LIDERANÃA DO CIDADANIA",
         null,
         null,
         null,
         "2019",
         null,
         null,
         "56",
         "13",
         "FORNECIMENTO DE ALIMENTAÃÃO DO PARLAMENTAR",
         "0",
         null,
         "NAPOLITANA COMERCIO DE ALIMENTOS LTDA",
         "118.693.450/0010-0",
         "96713",
         "4",
         "2022-12-20T00:00:00",
         "231.5",
         "14.0",
         "217.5",
         "12",
         "2022",
         "0",
         null,
         null,
         "1898462",
         null,
         null,
         null,
         "3453",
         "7478861",
         "https://www.camara.leg.br/cota-parlamentar/nota-fiscal-eletronica?ideDocumentoFiscal=7478861"
        ],
        [
         "3",
         "LIDERANÃA DO CIDADANIA",
         null,
         null,
         null,
         "2019",
         null,
         null,
         "56",
         "13",
         "FORNECIMENTO DE ALIMENTAÃÃO DO PARLAMENTAR",
         "0",
         null,
         "SANTO BUFFET SERVICOS DE ALIMENTACAO LTDA",
         "453.508.390/0019-8",
         "251",
         "4",
         "2022-11-09T00:00:00",
         "1400.0",
         "0.0",
         "1400.0",
         "11",
         "2022",
         "0",
         null,
         null,
         "1889871",
         null,
         null,
         null,
         "3453",
         "7462876",
         "https://www.camara.leg.br/cota-parlamentar/nota-fiscal-eletronica?ideDocumentoFiscal=7462876"
        ],
        [
         "4",
         "LIDERANÃA DO CIDADANIA",
         null,
         null,
         null,
         "2019",
         null,
         null,
         "56",
         "13",
         "FORNECIMENTO DE ALIMENTAÃÃO DO PARLAMENTAR",
         "0",
         null,
         "SANTO BUFFET SERVICOS DE ALIMENTACAO LTDA",
         "453.508.390/0019-8",
         "313",
         "4",
         "2022-12-20T00:00:00",
         "1596.0",
         "0.0",
         "1596.0",
         "11",
         "2022",
         "0",
         null,
         null,
         "1898025",
         null,
         null,
         null,
         "3453",
         "7478137",
         "https://www.camara.leg.br/cota-parlamentar/nota-fiscal-eletronica?ideDocumentoFiscal=7478137"
        ]
       ],
       "shape": {
        "columns": 32,
        "rows": 5
       }
      },
      "text/html": [
       "<div>\n",
       "<style scoped>\n",
       "    .dataframe tbody tr th:only-of-type {\n",
       "        vertical-align: middle;\n",
       "    }\n",
       "\n",
       "    .dataframe tbody tr th {\n",
       "        vertical-align: top;\n",
       "    }\n",
       "\n",
       "    .dataframe thead th {\n",
       "        text-align: right;\n",
       "    }\n",
       "</style>\n",
       "<table border=\"1\" class=\"dataframe\">\n",
       "  <thead>\n",
       "    <tr style=\"text-align: right;\">\n",
       "      <th></th>\n",
       "      <th>ï»¿\"txNomeParlamentar\"</th>\n",
       "      <th>cpf</th>\n",
       "      <th>ideCadastro</th>\n",
       "      <th>nuCarteiraParlamentar</th>\n",
       "      <th>nuLegislatura</th>\n",
       "      <th>sgUF</th>\n",
       "      <th>sgPartido</th>\n",
       "      <th>codLegislatura</th>\n",
       "      <th>numSubCota</th>\n",
       "      <th>txtDescricao</th>\n",
       "      <th>...</th>\n",
       "      <th>numParcela</th>\n",
       "      <th>txtPassageiro</th>\n",
       "      <th>txtTrecho</th>\n",
       "      <th>numLote</th>\n",
       "      <th>numRessarcimento</th>\n",
       "      <th>datPagamentoRestituicao</th>\n",
       "      <th>vlrRestituicao</th>\n",
       "      <th>nuDeputadoId</th>\n",
       "      <th>ideDocumento</th>\n",
       "      <th>urlDocumento</th>\n",
       "    </tr>\n",
       "  </thead>\n",
       "  <tbody>\n",
       "    <tr>\n",
       "      <th>0</th>\n",
       "      <td>LIDERANÃA DO CIDADANIA</td>\n",
       "      <td>NaN</td>\n",
       "      <td>NaN</td>\n",
       "      <td>NaN</td>\n",
       "      <td>2019</td>\n",
       "      <td>NaN</td>\n",
       "      <td>NaN</td>\n",
       "      <td>56</td>\n",
       "      <td>4</td>\n",
       "      <td>CONSULTORIAS, PESQUISAS E TRABALHOS TÃCNICOS.</td>\n",
       "      <td>...</td>\n",
       "      <td>0</td>\n",
       "      <td>NaN</td>\n",
       "      <td>NaN</td>\n",
       "      <td>1899877</td>\n",
       "      <td>NaN</td>\n",
       "      <td>NaN</td>\n",
       "      <td>NaN</td>\n",
       "      <td>3453</td>\n",
       "      <td>7481981</td>\n",
       "      <td>https://www.camara.leg.br/cota-parlamentar/doc...</td>\n",
       "    </tr>\n",
       "    <tr>\n",
       "      <th>1</th>\n",
       "      <td>LIDERANÃA DO CIDADANIA</td>\n",
       "      <td>NaN</td>\n",
       "      <td>NaN</td>\n",
       "      <td>NaN</td>\n",
       "      <td>2019</td>\n",
       "      <td>NaN</td>\n",
       "      <td>NaN</td>\n",
       "      <td>56</td>\n",
       "      <td>5</td>\n",
       "      <td>DIVULGAÃÃO DA ATIVIDADE PARLAMENTAR.</td>\n",
       "      <td>...</td>\n",
       "      <td>0</td>\n",
       "      <td>NaN</td>\n",
       "      <td>NaN</td>\n",
       "      <td>1833951</td>\n",
       "      <td>NaN</td>\n",
       "      <td>NaN</td>\n",
       "      <td>NaN</td>\n",
       "      <td>3453</td>\n",
       "      <td>7342370</td>\n",
       "      <td>https://www.camara.leg.br/cota-parlamentar/doc...</td>\n",
       "    </tr>\n",
       "    <tr>\n",
       "      <th>2</th>\n",
       "      <td>LIDERANÃA DO CIDADANIA</td>\n",
       "      <td>NaN</td>\n",
       "      <td>NaN</td>\n",
       "      <td>NaN</td>\n",
       "      <td>2019</td>\n",
       "      <td>NaN</td>\n",
       "      <td>NaN</td>\n",
       "      <td>56</td>\n",
       "      <td>13</td>\n",
       "      <td>FORNECIMENTO DE ALIMENTAÃÃO DO PARLAMENTAR</td>\n",
       "      <td>...</td>\n",
       "      <td>0</td>\n",
       "      <td>NaN</td>\n",
       "      <td>NaN</td>\n",
       "      <td>1898462</td>\n",
       "      <td>NaN</td>\n",
       "      <td>NaN</td>\n",
       "      <td>NaN</td>\n",
       "      <td>3453</td>\n",
       "      <td>7478861</td>\n",
       "      <td>https://www.camara.leg.br/cota-parlamentar/not...</td>\n",
       "    </tr>\n",
       "    <tr>\n",
       "      <th>3</th>\n",
       "      <td>LIDERANÃA DO CIDADANIA</td>\n",
       "      <td>NaN</td>\n",
       "      <td>NaN</td>\n",
       "      <td>NaN</td>\n",
       "      <td>2019</td>\n",
       "      <td>NaN</td>\n",
       "      <td>NaN</td>\n",
       "      <td>56</td>\n",
       "      <td>13</td>\n",
       "      <td>FORNECIMENTO DE ALIMENTAÃÃO DO PARLAMENTAR</td>\n",
       "      <td>...</td>\n",
       "      <td>0</td>\n",
       "      <td>NaN</td>\n",
       "      <td>NaN</td>\n",
       "      <td>1889871</td>\n",
       "      <td>NaN</td>\n",
       "      <td>NaN</td>\n",
       "      <td>NaN</td>\n",
       "      <td>3453</td>\n",
       "      <td>7462876</td>\n",
       "      <td>https://www.camara.leg.br/cota-parlamentar/not...</td>\n",
       "    </tr>\n",
       "    <tr>\n",
       "      <th>4</th>\n",
       "      <td>LIDERANÃA DO CIDADANIA</td>\n",
       "      <td>NaN</td>\n",
       "      <td>NaN</td>\n",
       "      <td>NaN</td>\n",
       "      <td>2019</td>\n",
       "      <td>NaN</td>\n",
       "      <td>NaN</td>\n",
       "      <td>56</td>\n",
       "      <td>13</td>\n",
       "      <td>FORNECIMENTO DE ALIMENTAÃÃO DO PARLAMENTAR</td>\n",
       "      <td>...</td>\n",
       "      <td>0</td>\n",
       "      <td>NaN</td>\n",
       "      <td>NaN</td>\n",
       "      <td>1898025</td>\n",
       "      <td>NaN</td>\n",
       "      <td>NaN</td>\n",
       "      <td>NaN</td>\n",
       "      <td>3453</td>\n",
       "      <td>7478137</td>\n",
       "      <td>https://www.camara.leg.br/cota-parlamentar/not...</td>\n",
       "    </tr>\n",
       "  </tbody>\n",
       "</table>\n",
       "<p>5 rows × 32 columns</p>\n",
       "</div>"
      ],
      "text/plain": [
       "    ï»¿\"txNomeParlamentar\"  cpf  ideCadastro  nuCarteiraParlamentar  \\\n",
       "0  LIDERANÃA DO CIDADANIA  NaN          NaN                    NaN   \n",
       "1  LIDERANÃA DO CIDADANIA  NaN          NaN                    NaN   \n",
       "2  LIDERANÃA DO CIDADANIA  NaN          NaN                    NaN   \n",
       "3  LIDERANÃA DO CIDADANIA  NaN          NaN                    NaN   \n",
       "4  LIDERANÃA DO CIDADANIA  NaN          NaN                    NaN   \n",
       "\n",
       "   nuLegislatura sgUF sgPartido  codLegislatura  numSubCota  \\\n",
       "0           2019  NaN       NaN              56           4   \n",
       "1           2019  NaN       NaN              56           5   \n",
       "2           2019  NaN       NaN              56          13   \n",
       "3           2019  NaN       NaN              56          13   \n",
       "4           2019  NaN       NaN              56          13   \n",
       "\n",
       "                                     txtDescricao  ...  numParcela  \\\n",
       "0  CONSULTORIAS, PESQUISAS E TRABALHOS TÃCNICOS.  ...           0   \n",
       "1          DIVULGAÃÃO DA ATIVIDADE PARLAMENTAR.  ...           0   \n",
       "2    FORNECIMENTO DE ALIMENTAÃÃO DO PARLAMENTAR  ...           0   \n",
       "3    FORNECIMENTO DE ALIMENTAÃÃO DO PARLAMENTAR  ...           0   \n",
       "4    FORNECIMENTO DE ALIMENTAÃÃO DO PARLAMENTAR  ...           0   \n",
       "\n",
       "  txtPassageiro txtTrecho  numLote numRessarcimento  datPagamentoRestituicao  \\\n",
       "0           NaN       NaN  1899877              NaN                      NaN   \n",
       "1           NaN       NaN  1833951              NaN                      NaN   \n",
       "2           NaN       NaN  1898462              NaN                      NaN   \n",
       "3           NaN       NaN  1889871              NaN                      NaN   \n",
       "4           NaN       NaN  1898025              NaN                      NaN   \n",
       "\n",
       "  vlrRestituicao  nuDeputadoId  ideDocumento  \\\n",
       "0            NaN          3453       7481981   \n",
       "1            NaN          3453       7342370   \n",
       "2            NaN          3453       7478861   \n",
       "3            NaN          3453       7462876   \n",
       "4            NaN          3453       7478137   \n",
       "\n",
       "                                        urlDocumento  \n",
       "0  https://www.camara.leg.br/cota-parlamentar/doc...  \n",
       "1  https://www.camara.leg.br/cota-parlamentar/doc...  \n",
       "2  https://www.camara.leg.br/cota-parlamentar/not...  \n",
       "3  https://www.camara.leg.br/cota-parlamentar/not...  \n",
       "4  https://www.camara.leg.br/cota-parlamentar/not...  \n",
       "\n",
       "[5 rows x 32 columns]"
      ]
     },
     "execution_count": 14,
     "metadata": {},
     "output_type": "execute_result"
    }
   ],
   "source": [
    "ano_2022 = pd.read_csv(\"/home/gilliard/Documentos/camara_deputados_BI/datasets/Ano-2022.csv\", sep=\";\", encoding=\"latin1\")\n",
    "ano_2022.head()"
   ]
  },
  {
   "cell_type": "code",
   "execution_count": 17,
   "metadata": {},
   "outputs": [
    {
     "data": {
      "text/plain": [
       "np.float64(221403618.45000002)"
      ]
     },
     "execution_count": 17,
     "metadata": {},
     "output_type": "execute_result"
    }
   ],
   "source": [
    "# Total do valor de despesas\n",
    "ano_2022[\"vlrDocumento\"].sum()"
   ]
  },
  {
   "cell_type": "code",
   "execution_count": null,
   "metadata": {},
   "outputs": [],
   "source": []
  }
 ],
 "metadata": {
  "kernelspec": {
   "display_name": "atividade_ativa_-_camara_dos_deputados-Zmx4TuVd-py3.12",
   "language": "python",
   "name": "python3"
  },
  "language_info": {
   "codemirror_mode": {
    "name": "ipython",
    "version": 3
   },
   "file_extension": ".py",
   "mimetype": "text/x-python",
   "name": "python",
   "nbconvert_exporter": "python",
   "pygments_lexer": "ipython3",
   "version": "3.12.3"
  }
 },
 "nbformat": 4,
 "nbformat_minor": 2
}
